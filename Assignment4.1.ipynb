{
 "cells": [
  {
   "cell_type": "code",
   "execution_count": null,
   "id": "9cbb414d",
   "metadata": {},
   "outputs": [],
   "source": [
    "secret = 9\n",
    "guess = 3\n",
    "\n",
    "while True:\n",
    "    if guess < secret:\n",
    "        print(\"Too Low\")\n",
    "        break\n",
    "    elif guess > secret:\n",
    "        print(\"Too High\")\n",
    "        break\n",
    "    else:\n",
    "        print(\"Just Right!\")\n",
    "        break\n",
    " "
   ]
  },
  {
   "cell_type": "code",
   "execution_count": null,
   "id": "f4b51896",
   "metadata": {},
   "outputs": [],
   "source": []
  }
 ],
 "metadata": {
  "kernelspec": {
   "display_name": "Python 3 (ipykernel)",
   "language": "python",
   "name": "python3"
  },
  "language_info": {
   "codemirror_mode": {
    "name": "ipython",
    "version": 3
   },
   "file_extension": ".py",
   "mimetype": "text/x-python",
   "name": "python",
   "nbconvert_exporter": "python",
   "pygments_lexer": "ipython3",
   "version": "3.10.6"
  }
 },
 "nbformat": 4,
 "nbformat_minor": 5
}
