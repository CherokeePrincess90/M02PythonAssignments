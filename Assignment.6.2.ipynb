{
 "cells": [
  {
   "cell_type": "code",
   "execution_count": 1,
   "metadata": {},
   "outputs": [
    {
     "name": "stdout",
     "output_type": "stream",
     "text": [
      "Too low\n"
     ]
    }
   ],
   "source": [
    "guess_me=7\n",
    "number=1\n",
    "\n",
    "while guess_me > number:\n",
    "    print(\"Too low\")\n",
    "    break\n",
    "\n",
    "while guess_me < number:\n",
    "    print(\"Too high\")\n",
    "    break\n",
    "\n",
    "while guess_me==number:\n",
    "    print(\"Found it!\")\n",
    "    break"
   ]
  }
 ],
 "metadata": {
  "kernelspec": {
   "display_name": "Python 3.9.13 ('base')",
   "language": "python",
   "name": "python3"
  },
  "language_info": {
   "codemirror_mode": {
    "name": "ipython",
    "version": 3
   },
   "file_extension": ".py",
   "mimetype": "text/x-python",
   "name": "python",
   "nbconvert_exporter": "python",
   "pygments_lexer": "ipython3",
   "version": "3.9.13"
  },
  "orig_nbformat": 4,
  "vscode": {
   "interpreter": {
    "hash": "f3c85f5c9896d9ad42958ac8bf6c77ad1f839be9bffd2426b50beb23b2b2aaa6"
   }
  }
 },
 "nbformat": 4,
 "nbformat_minor": 2
}
