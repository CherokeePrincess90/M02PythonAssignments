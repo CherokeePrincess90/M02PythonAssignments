{
 "cells": [
  {
   "cell_type": "code",
   "execution_count": 8,
   "metadata": {},
   "outputs": [
    {
     "name": "stdout",
     "output_type": "stream",
     "text": [
      "too low\n"
     ]
    }
   ],
   "source": [
    "guess_me=5\n",
    "\n",
    "for number in range(10):\n",
    "    if number > guess_me:\n",
    "        print(\"oops\")\n",
    "        break\n",
    "    elif number < guess_me:\n",
    "        print(\"too low\")\n",
    "        break\n",
    "    else:\n",
    "        print(\"Found it!\")\n",
    "        break"
   ]
  }
 ],
 "metadata": {
  "kernelspec": {
   "display_name": "Python 3.10.4 64-bit",
   "language": "python",
   "name": "python3"
  },
  "language_info": {
   "codemirror_mode": {
    "name": "ipython",
    "version": 3
   },
   "file_extension": ".py",
   "mimetype": "text/x-python",
   "name": "python",
   "nbconvert_exporter": "python",
   "pygments_lexer": "ipython3",
   "version": "3.10.4"
  },
  "orig_nbformat": 4,
  "vscode": {
   "interpreter": {
    "hash": "ac14b001098f2ade99f71d6ab314561ef6236e9504f1568c1bb651c5f52310e2"
   }
  }
 },
 "nbformat": 4,
 "nbformat_minor": 2
}
